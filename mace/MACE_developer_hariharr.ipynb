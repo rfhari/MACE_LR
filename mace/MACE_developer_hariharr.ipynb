{
 "cells": [
  {
   "cell_type": "markdown",
   "metadata": {
    "id": "OCup0m-0kKuo"
   },
   "source": [
    "## Install MACE"
   ]
  },
  {
   "cell_type": "code",
   "execution_count": null,
   "metadata": {
    "colab": {
     "base_uri": "https://localhost:8080/"
    },
    "id": "XW28dp7ajW-6",
    "outputId": "e6ba26f3-80f5-41c5-d4bc-a9555cb092f9"
   },
   "outputs": [],
   "source": [
    "# %%bash\n",
    "# if test -d mace\n",
    "# then\n",
    "#     rm -rfv mace\n",
    "# fi\n",
    "# git clone --depth 1 --branch develop https://github.com/ACEsuit/mace.git \n",
    "# pip install mace/"
   ]
  },
  {
   "cell_type": "code",
   "execution_count": null,
   "metadata": {
    "colab": {
     "base_uri": "https://localhost:8080/",
     "height": 949
    },
    "id": "Mw0A5LHnjpS6",
    "outputId": "7b6fbf59-aea3-4b62-bff7-b25e69c84281"
   },
   "outputs": [],
   "source": [
    "# !pip install mace/"
   ]
  },
  {
   "cell_type": "markdown",
   "metadata": {},
   "source": [
    "## Create Model\n",
    "\n",
    "We will first create a model that we will dissect afterwards."
   ]
  },
  {
   "cell_type": "code",
   "execution_count": null,
   "metadata": {
    "id": "EqGr9Qz-lWaB"
   },
   "outputs": [],
   "source": [
    "import numpy as np\n",
    "import torch\n",
    "import torch.nn.functional\n",
    "from e3nn import o3\n",
    "from matplotlib import pyplot as plt\n",
    "%matplotlib inline\n",
    "\n",
    "from mace import data, modules, tools\n",
    "from mace.tools import torch_geometric\n",
    "# from mace.modules.models_hariharr_dipole import *\n",
    "# from mace.modules.models_hariharr_energy import *\n",
    "from mace.modules.models_hariharr_energy_ewald import *\n",
    "import warnings; warnings.simplefilter('ignore')"
   ]
  },
  {
   "cell_type": "code",
   "execution_count": null,
   "metadata": {},
   "outputs": [],
   "source": [
    "z_table = tools.AtomicNumberTable([1, 8])\n",
    "atomic_energies = np.array([-1.0, -3.0], dtype=float)\n",
    "cutoff = 3\n",
    "\n",
    "ewald_hyperparams = dict(\n",
    "      k_cutoff = 0.6,                           # Frequency cutoff [Å^-1]\n",
    "      delta_k = 0.2,                            # Voxel grid resolution [Å^-1]\n",
    "      num_k_rbf = 128,                          # Gaussian radial basis size (Fourier filter)\n",
    "      downprojection_size = 8,                  # Size of linear bottleneck layer\n",
    "      num_hidden = 0,                           # Number of residuals in update function\n",
    "    )\n",
    "\n",
    "model_config = dict(\n",
    "        num_elements=2,  # number of chemical elements\n",
    "        atomic_energies=atomic_energies,  # atomic energies used for normalisation\n",
    "        avg_num_neighbors=8,  # avg number of neighbours of the atoms, used for internal normalisation of messages\n",
    "        atomic_numbers=z_table.zs,  # atomic numbers, used to specify chemical element embeddings of the model\n",
    "        r_max=cutoff,  # cutoff\n",
    "        num_bessel=8,  # number of radial features\n",
    "        num_polynomial_cutoff=6,  # smoothness of the radial cutoff\n",
    "        max_ell=2,  # expansion order of spherical harmonic adge attributes\n",
    "        num_interactions=2,  # number of layers, typically 2\n",
    "        interaction_cls_first=modules.interaction_classes[\n",
    "            \"RealAgnosticResidualInteractionBlock\"\n",
    "        ],  # interation block of first layer\n",
    "        interaction_cls=modules.interaction_classes[\n",
    "            \"RealAgnosticResidualInteractionBlock\"\n",
    "        ],  # interaction block of subsequent layers\n",
    "        hidden_irreps=o3.Irreps(\"32x0e + 32x1o\"),  # 32: number of embedding channels, 0e, 1o is specifying which equivariant messages to use. Here up to L_max=1\n",
    "        correlation=3,  # correlation order of the messages (body order - 1)\n",
    "        MLP_irreps=o3.Irreps(\"16x0e\"),  # number of hidden dimensions of last layer readout MLP\n",
    "        gate=torch.nn.functional.silu,  # nonlinearity used in last layer readout MLP\n",
    "        ewald_hyperparams = ewald_hyperparams,\n",
    "    )\n",
    "\n",
    "model = TestMACE_Ewald(**model_config)"
   ]
  },
  {
   "cell_type": "code",
   "execution_count": null,
   "metadata": {
    "colab": {
     "base_uri": "https://localhost:8080/"
    },
    "id": "42-l41XanAv2",
    "outputId": "4b52ee17-8acd-4eef-e22b-1c4a0776a064"
   },
   "outputs": [],
   "source": [
    "# z_table = tools.AtomicNumberTable([1, 8])\n",
    "# atomic_energies = np.array([-1.0, -3.0], dtype=float)\n",
    "# cutoff = 3\n",
    "\n",
    "# model_config = dict(\n",
    "#         num_elements=2,  # number of chemical elements\n",
    "#         atomic_energies=atomic_energies,  # atomic energies used for normalisation\n",
    "#         avg_num_neighbors=8,  # avg number of neighbours of the atoms, used for internal normalisation of messages\n",
    "#         atomic_numbers=z_table.zs,  # atomic numbers, used to specify chemical element embeddings of the model\n",
    "#         r_max=cutoff,  # cutoff\n",
    "#         num_bessel=8,  # number of radial features\n",
    "#         num_polynomial_cutoff=6,  # smoothness of the radial cutoff\n",
    "#         max_ell=2,  # expansion order of spherical harmonic adge attributes\n",
    "#         num_interactions=2,  # number of layers, typically 2\n",
    "#         interaction_cls_first=modules.interaction_classes[\n",
    "#             \"RealAgnosticResidualInteractionBlock\"\n",
    "#         ],  # interation block of first layer\n",
    "#         interaction_cls=modules.interaction_classes[\n",
    "#             \"RealAgnosticResidualInteractionBlock\"\n",
    "#         ],  # interaction block of subsequent layers\n",
    "#         hidden_irreps=o3.Irreps(\"32x0e + 32x1o\"),  # 32: number of embedding channels, 0e, 1o is specifying which equivariant messages to use. Here up to L_max=1\n",
    "#         correlation=3,  # correlation order of the messages (body order - 1)\n",
    "#         MLP_irreps=o3.Irreps(\"16x0e\"),  # number of hidden dimensions of last layer readout MLP\n",
    "#         gate=torch.nn.functional.silu,  # nonlinearity used in last layer readout MLP\n",
    "#     )\n",
    "\n",
    "# model = TestMACE(**model_config)"
   ]
  },
  {
   "cell_type": "code",
   "execution_count": null,
   "metadata": {},
   "outputs": [],
   "source": [
    "# cutoff = 3\n",
    "# num_bessel = 8\n",
    "# num_polynomial_cutoff = 6\n",
    "# max_ell = 2\n",
    "# num_interactions = 4\n",
    "# num_elements = 2\n",
    "# MLP_irreps = o3.Irreps(\"16x0e\")\n",
    "# hidden_irreps = o3.Irreps(\"32x0e + 32x1o\")\n",
    "# MLP_irreps = o3.Irreps(\"16x0e\")\n",
    "# avg_num_neighbors = 8\n",
    "# z_table = tools.AtomicNumberTable([1, 8])\n",
    "# atomic_energies = np.array([-1.0, -3.0], dtype=float)\n",
    "# correlation = 3\n",
    "# gate = torch.nn.functional.silu\n",
    "\n",
    "\n",
    "# model = TestEnergyDipolesMACE(\n",
    "#     r_max=cutoff,\n",
    "#     num_bessel=num_bessel,\n",
    "#     num_polynomial_cutoff=num_polynomial_cutoff,\n",
    "#     max_ell=max_ell,\n",
    "#     interaction_cls=modules.interaction_classes[\n",
    "#             \"RealAgnosticResidualInteractionBlock\"\n",
    "#         ],\n",
    "#     interaction_cls_first=modules.interaction_classes[\n",
    "#             \"RealAgnosticResidualInteractionBlock\"\n",
    "#         ],\n",
    "#     num_interactions=num_interactions,\n",
    "#     num_elements=num_elements,\n",
    "#     hidden_irreps=hidden_irreps,\n",
    "#     MLP_irreps=MLP_irreps,\n",
    "#     avg_num_neighbors=avg_num_neighbors,\n",
    "#     atomic_numbers=z_table.zs,\n",
    "#     correlation=correlation,\n",
    "#     gate=gate,\n",
    "#     atomic_energies=atomic_energies\n",
    "# )"
   ]
  },
  {
   "cell_type": "code",
   "execution_count": null,
   "metadata": {
    "colab": {
     "base_uri": "https://localhost:8080/"
    },
    "id": "7wZK0mufovQU",
    "outputId": "36d03aba-0d99-4389-dbbc-abace02bc9ba"
   },
   "outputs": [],
   "source": [
    "print(model)"
   ]
  },
  {
   "attachments": {},
   "cell_type": "markdown",
   "metadata": {
    "id": "vYMQTAfrodDI"
   },
   "source": [
    "create water molecule for example:"
   ]
  },
  {
   "cell_type": "code",
   "execution_count": null,
   "metadata": {
    "colab": {
     "base_uri": "https://localhost:8080/"
    },
    "id": "88r1ZNfkojNB",
    "outputId": "1a366585-6d3c-4487-d1e3-a2b65326d6e1"
   },
   "outputs": [],
   "source": [
    "config = data.Configuration(\n",
    "    atomic_numbers=np.array([8, 1, 1]),\n",
    "    positions=np.array(\n",
    "        [\n",
    "            [0.0, -2.0, 0.0],\n",
    "            [1.0, 0.0, 0.0],\n",
    "            [0.0, 1.0, 0.0],\n",
    "        ]\n",
    "    ),\n",
    "    forces=np.array(\n",
    "        [\n",
    "            [0.0, -1.3, 0.0],\n",
    "            [1.0, 0.2, 0.0],\n",
    "            [0.0, 1.1, 0.3],\n",
    "        ]\n",
    "    ),\n",
    "    energy=-1.5,\n",
    ")\n",
    "\n",
    "atomic_data = data.AtomicData.from_config(config, z_table=z_table, cutoff=float(model.r_max))\n",
    "data_loader = torch_geometric.dataloader.DataLoader(\n",
    "        dataset=[atomic_data],\n",
    "        batch_size=1,\n",
    "        shuffle=True,\n",
    "        drop_last=False,\n",
    "    )\n",
    "batch = next(iter(data_loader))\n",
    "print(\"The data is stored in batches. Each batch is a single graph, potentially made up of several disjointed sub-graphs corresponding to different chemical structures. \")\n",
    "print(batch)\n",
    "print(\"\\nbatch.edge_index contains which atoms are connected within the cutoff. It is the adjacency matrix in sparse format.\\n\")\n",
    "print(batch.edge_index)"
   ]
  },
  {
   "attachments": {},
   "cell_type": "markdown",
   "metadata": {},
   "source": [
    "## MACE Forward      "
   ]
  },
  {
   "cell_type": "code",
   "execution_count": null,
   "metadata": {},
   "outputs": [],
   "source": [
    "data = batch\n",
    "training = False,\n",
    "compute_force = True,\n",
    "compute_virials = False,\n",
    "compute_stress = False,\n",
    "compute_displacement = False,\n",
    "\n",
    "outputs = model.forward(batch)"
   ]
  },
  {
   "cell_type": "markdown",
   "metadata": {
    "id": "ZLEKUdTLmL_A"
   },
   "source": [
    "## MACE readout\n",
    "\n",
    "To create the output of the model we use the node features from all layers $s$:\n",
    "\n",
    "\\begin{equation}\n",
    "    \\mathcal{R}^{(s)} \\left( \\boldsymbol{h}_i^{(s)} \\right) =\n",
    "    \\begin{cases}\n",
    "      \\sum_{k}W^{(s)}_{k}h^{(s)}_{i,k00}     & \\text{if} \\;\\; 1 < s < S \\\\[13pt]\n",
    "      {\\rm MLP} \\left( \\left\\{ h^{(s)}_{i,k00} \\right\\}_k \\right)  &\\text{if} \\;\\; s = S\n",
    "    \\end{cases}\n",
    "\\end{equation}\n",
    "\n",
    "The first linear readout is implemented in\n",
    "\n",
    "```py\n",
    "class LinearReadoutBlock(torch.nn.Module):\n",
    "```\n",
    "\n",
    "In our example case this maps the 32 dimensional $h^{(1)}_{i,k00}$, the invariant part os the node features after the first interaction to the first term in the aotmic site energy:"
   ]
  },
  {
   "cell_type": "code",
   "execution_count": null,
   "metadata": {
    "colab": {
     "base_uri": "https://localhost:8080/"
    },
    "id": "DnE_QfoQmwqH",
    "outputId": "7f0e656b-1d3b-4aaa-a1bb-7519703b2889"
   },
   "outputs": [],
   "source": [
    "print(model.readouts[0])"
   ]
  },
  {
   "cell_type": "code",
   "execution_count": null,
   "metadata": {
    "id": "RZV78b7K2Pr9"
   },
   "outputs": [],
   "source": [
    "node_energies = model.readouts[0](node_feats).squeeze(-1)"
   ]
  },
  {
   "cell_type": "markdown",
   "metadata": {
    "id": "x_v0FAoantnw"
   },
   "source": [
    "The last layer readout block is a 1 hidden layer Multi Layer Percptron (MLP):\n",
    "\n",
    "```py\n",
    "class NonLinearReadoutBlock(torch.nn.Module):\n",
    "```"
   ]
  },
  {
   "cell_type": "code",
   "execution_count": null,
   "metadata": {
    "colab": {
     "base_uri": "https://localhost:8080/"
    },
    "id": "Vn2_Pxsbm3-X",
    "outputId": "660301d1-a2d7-49ee-a99b-48e64205d265"
   },
   "outputs": [],
   "source": [
    "print(model.readouts[1])"
   ]
  },
  {
   "cell_type": "markdown",
   "metadata": {
    "id": "Mw4xGbV90-0A"
   },
   "source": [
    "It is also possible to have equivariant readouts. This can be achieved by using Gated non-linearities. See as an example:\n",
    "\n",
    "```py\n",
    "class NonLinearDipoleReadoutBlock(torch.nn.Module):\n",
    "```"
   ]
  },
  {
   "cell_type": "markdown",
   "metadata": {
    "id": "UHi40bVa1k7b"
   },
   "source": [
    "These readouts are formed for each node in the batch. To turn them into a graph level readout we use a scatter sum operation which sums the node energies for each graph (separate chemical strucutre) in the batch. This is followed by summing the atomic energy and 1-st, 2nd etc. layer contributions to form the final model output."
   ]
  },
  {
   "cell_type": "code",
   "execution_count": null,
   "metadata": {
    "colab": {
     "base_uri": "https://localhost:8080/"
    },
    "id": "wGpLz7gXzAz0",
    "outputId": "0f4e8065-46cb-43c3-bd7c-bc2c2698913f"
   },
   "outputs": [],
   "source": [
    "# energy = scatter_sum(\n",
    "#                 src=node_energies, index=batch[\"batch\"], dim=-1, dim_size=batch.num_graphs\n",
    "#             )  # [n_graphs,]\n",
    "# # in the code this step is done for each layer followed by summing the layer-wise output\n",
    "# print(\"Energy:\",energy)"
   ]
  },
  {
   "cell_type": "code",
   "execution_count": null,
   "metadata": {},
   "outputs": [],
   "source": [
    "batch.cell"
   ]
  }
 ],
 "metadata": {
  "colab": {
   "provenance": [],
   "toc_visible": true
  },
  "kernelspec": {
   "display_name": "Python 3 (ipykernel)",
   "language": "python",
   "name": "python3"
  },
  "language_info": {
   "codemirror_mode": {
    "name": "ipython",
    "version": 3
   },
   "file_extension": ".py",
   "mimetype": "text/x-python",
   "name": "python",
   "nbconvert_exporter": "python",
   "pygments_lexer": "ipython3",
   "version": "3.12.3"
  }
 },
 "nbformat": 4,
 "nbformat_minor": 4
}
